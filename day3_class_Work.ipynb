{
  "nbformat": 4,
  "nbformat_minor": 0,
  "metadata": {
    "colab": {
      "provenance": []
    },
    "kernelspec": {
      "name": "python3",
      "display_name": "Python 3"
    },
    "language_info": {
      "name": "python"
    }
  },
  "cells": [
    {
      "cell_type": "code",
      "execution_count": null,
      "metadata": {
        "id": "m62PnGIDElaq"
      },
      "outputs": [],
      "source": [
        "!pip install gtts\n"
      ]
    },
    {
      "cell_type": "code",
      "source": [
        "from gtts import gTTS\n",
        "import os\n",
        "\n",
        "def text_to_speech(text, lang='en'):\n",
        "    tts = gTTS(text=text, lang=lang, slow=False)\n",
        "\n",
        "    tts.save(\"output.mp3\")\n",
        "    os.system(\"start output.mp3\")\n",
        "\n",
        "text = input(\"Enter text to convert to speech: \")\n",
        "text_to_speech(text)\n"
      ],
      "metadata": {
        "colab": {
          "base_uri": "https://localhost:8080/"
        },
        "id": "UEEWSwZAFH80",
        "outputId": "bff59371-274a-4285-bc4f-bb8c00b7648e"
      },
      "execution_count": 7,
      "outputs": [
        {
          "name": "stdout",
          "output_type": "stream",
          "text": [
            "Enter text to convert to speech: hello , darling \n"
          ]
        }
      ]
    }
  ]
}